{
 "cells": [
  {
   "cell_type": "code",
   "execution_count": 1,
   "metadata": {},
   "outputs": [
    {
     "data": {
      "application/javascript": [
       "require.undef(\"nbextensions/vpython_libraries/glow.min\");"
      ],
      "text/plain": [
       "<IPython.core.display.Javascript object>"
      ]
     },
     "metadata": {},
     "output_type": "display_data"
    },
    {
     "data": {
      "application/javascript": [
       "require.undef(\"nbextensions/vpython_libraries/glowcomm\");"
      ],
      "text/plain": [
       "<IPython.core.display.Javascript object>"
      ]
     },
     "metadata": {},
     "output_type": "display_data"
    },
    {
     "data": {
      "application/javascript": [
       "require.undef(\"nbextensions/vpython_libraries/jquery-ui.custom.min\");"
      ],
      "text/plain": [
       "<IPython.core.display.Javascript object>"
      ]
     },
     "metadata": {},
     "output_type": "display_data"
    },
    {
     "data": {
      "application/javascript": [
       "require([\"nbextensions/vpython_libraries/glow.min\"], function(){console.log(\"GLOW LOADED\");})"
      ],
      "text/plain": [
       "<IPython.core.display.Javascript object>"
      ]
     },
     "metadata": {},
     "output_type": "display_data"
    },
    {
     "data": {
      "application/javascript": [
       "require([\"nbextensions/vpython_libraries/glowcomm\"], function(){console.log(\"GLOWCOMM LOADED\");})"
      ],
      "text/plain": [
       "<IPython.core.display.Javascript object>"
      ]
     },
     "metadata": {},
     "output_type": "display_data"
    },
    {
     "data": {
      "application/javascript": [
       "require([\"nbextensions/vpython_libraries/jquery-ui.custom.min\"], function(){console.log(\"JQUERY LOADED\");})"
      ],
      "text/plain": [
       "<IPython.core.display.Javascript object>"
      ]
     },
     "metadata": {},
     "output_type": "display_data"
    },
    {
     "data": {
      "text/html": [
       "<div id=\"glowscript\" class=\"glowscript\"></div>"
      ],
      "text/plain": [
       "<IPython.core.display.HTML object>"
      ]
     },
     "metadata": {},
     "output_type": "display_data"
    },
    {
     "data": {
      "application/javascript": [
       "window.__context = { glowscript_container: $(\"#glowscript\").removeAttr(\"id\")}"
      ],
      "text/plain": [
       "<IPython.core.display.Javascript object>"
      ]
     },
     "metadata": {},
     "output_type": "display_data"
    },
    {
     "ename": "TypeError",
     "evalue": "Argument 'B' has incorrect type (expected vpython.cyvector.vector, got numpy.ndarray)",
     "output_type": "error",
     "traceback": [
      "\u001b[1;31m---------------------------------------------------------------------------\u001b[0m",
      "\u001b[1;31mTypeError\u001b[0m                                 Traceback (most recent call last)",
      "\u001b[1;32m<ipython-input-1-4b6237245e7f>\u001b[0m in \u001b[0;36m<module>\u001b[1;34m()\u001b[0m\n\u001b[0;32m     83\u001b[0m         \u001b[0msepmag\u001b[0m\u001b[1;33m=\u001b[0m\u001b[0msqrt\u001b[0m\u001b[1;33m(\u001b[0m\u001b[0msepmag2\u001b[0m\u001b[1;33m[\u001b[0m\u001b[0mi\u001b[0m\u001b[1;33m,\u001b[0m\u001b[0mj\u001b[0m\u001b[1;33m]\u001b[0m\u001b[1;33m)\u001b[0m\u001b[1;33m\u001b[0m\u001b[0m\n\u001b[0;32m     84\u001b[0m         \u001b[0mdirection\u001b[0m\u001b[1;33m=\u001b[0m\u001b[0mseparation\u001b[0m\u001b[1;33m[\u001b[0m\u001b[0mi\u001b[0m\u001b[1;33m,\u001b[0m\u001b[0mj\u001b[0m\u001b[1;33m]\u001b[0m\u001b[1;33m/\u001b[0m\u001b[0msepmag\u001b[0m\u001b[1;33m\u001b[0m\u001b[0m\n\u001b[1;32m---> 85\u001b[1;33m         \u001b[0mpi\u001b[0m\u001b[1;33m=\u001b[0m\u001b[0mdot\u001b[0m\u001b[1;33m(\u001b[0m\u001b[0mvector\u001b[0m\u001b[1;33m(\u001b[0m\u001b[0mp_array\u001b[0m\u001b[1;33m[\u001b[0m\u001b[0mi\u001b[0m\u001b[1;33m]\u001b[0m\u001b[1;33m[\u001b[0m\u001b[1;36m0\u001b[0m\u001b[1;33m]\u001b[0m\u001b[1;33m,\u001b[0m \u001b[0mp_array\u001b[0m\u001b[1;33m[\u001b[0m\u001b[0mi\u001b[0m\u001b[1;33m]\u001b[0m\u001b[1;33m[\u001b[0m\u001b[1;36m1\u001b[0m\u001b[1;33m]\u001b[0m\u001b[1;33m,\u001b[0m \u001b[0mp_array\u001b[0m\u001b[1;33m[\u001b[0m\u001b[0mi\u001b[0m\u001b[1;33m]\u001b[0m\u001b[1;33m[\u001b[0m\u001b[1;36m2\u001b[0m\u001b[1;33m]\u001b[0m\u001b[1;33m)\u001b[0m\u001b[1;33m,\u001b[0m\u001b[0mdirection\u001b[0m\u001b[1;33m)\u001b[0m\u001b[1;33m\u001b[0m\u001b[0m\n\u001b[0m\u001b[0;32m     86\u001b[0m         \u001b[0mpj\u001b[0m\u001b[1;33m=\u001b[0m\u001b[0mdot\u001b[0m\u001b[1;33m(\u001b[0m\u001b[0mvector\u001b[0m\u001b[1;33m(\u001b[0m\u001b[0mp_array\u001b[0m\u001b[1;33m[\u001b[0m\u001b[0mj\u001b[0m\u001b[1;33m]\u001b[0m\u001b[1;33m[\u001b[0m\u001b[1;36m0\u001b[0m\u001b[1;33m]\u001b[0m\u001b[1;33m,\u001b[0m \u001b[0mp_array\u001b[0m\u001b[1;33m[\u001b[0m\u001b[0mj\u001b[0m\u001b[1;33m]\u001b[0m\u001b[1;33m[\u001b[0m\u001b[1;36m1\u001b[0m\u001b[1;33m]\u001b[0m\u001b[1;33m,\u001b[0m \u001b[0mp_array\u001b[0m\u001b[1;33m[\u001b[0m\u001b[0mj\u001b[0m\u001b[1;33m]\u001b[0m\u001b[1;33m[\u001b[0m\u001b[1;36m2\u001b[0m\u001b[1;33m]\u001b[0m\u001b[1;33m)\u001b[0m\u001b[1;33m,\u001b[0m\u001b[0mdirection\u001b[0m\u001b[1;33m)\u001b[0m\u001b[1;33m\u001b[0m\u001b[0m\n\u001b[0;32m     87\u001b[0m         \u001b[0mexchange\u001b[0m\u001b[1;33m=\u001b[0m\u001b[0mpj\u001b[0m\u001b[1;33m-\u001b[0m\u001b[0mpi\u001b[0m\u001b[1;33m\u001b[0m\u001b[0m\n",
      "\u001b[1;31mTypeError\u001b[0m: Argument 'B' has incorrect type (expected vpython.cyvector.vector, got numpy.ndarray)"
     ]
    }
   ],
   "source": [
    "#########################################\n",
    "# Import the library(s)\n",
    "#########################################\n",
    "from vpython import *\n",
    "from random import random\n",
    "from numpy import fromfunction, less_equal, array, putmask, greater, newaxis, add, sort, nonzero\n",
    "\n",
    "\n",
    "##########################################\n",
    "# Create Wall(s)\n",
    "##########################################\n",
    "thk = 0.3\n",
    "side = 4.0\n",
    "s2 = 2*side - thk\n",
    "s3 = 2*side + thk\n",
    "\n",
    "wallR = box (pos=vector( side, 0, 0), length=thk, height=s2, width=s3, color = color.red)\n",
    "wallL = box (pos=vector(-side, 0, 0), length=thk, height=s2, width=s3, color = color.red)\n",
    "wallB = box (pos=vector(0, -side, 0), length=s3, height=thk, width=s3, color = color.blue)\n",
    "wallT = box (pos=vector(0, side, 0), length=s3, height=thk, width=s3, color = color.blue)\n",
    "wallBK = box(pos=vector(0, 0, -side), length=s2, height=s2, width=thk, color = vector(0.7,0.7,0.7))\n",
    "\n",
    "\n",
    "##########################################\n",
    "# Create Ball(s)\n",
    "##########################################\n",
    "no_particles=30\n",
    "ball_radius=0.3\n",
    "maxpos=side-.5*thk-ball_radius\n",
    "maxv=1.0\n",
    "D2=(2*ball_radius)**2\n",
    "\n",
    "ball_list=[]\n",
    "p_list=[]\n",
    "pos_list=[]\n",
    "for i in arange(no_particles):\n",
    "    ball = sphere(color = color.green, radius=ball_radius)\n",
    "    p=[2*maxv*(random()-.5), 2*maxv*(random()-.5),2*maxv*(random()-.5)]\n",
    "    p_list.append(p)\n",
    "    position=[2*maxpos*(random()-0.5), 2*maxpos*(random()-0.5), 2*maxpos*(random()-0.5)]\n",
    "    pos_list.append(position)\n",
    "    ball.pos=vector(position[0], position[1], position[2])\n",
    "    ball_list.append(ball)\n",
    "\n",
    "p_array=array(p_list)\n",
    "pos_array=array(pos_list)\n",
    "\n",
    "##########################################\n",
    "# Time loop for moving Ball(s)\n",
    "###########################################\n",
    "ltriang=fromfunction(lambda i,j: less_equal(j,i), [no_particles,no_particles])\n",
    "\n",
    "dt = 0.05\n",
    "\n",
    "while 1:\n",
    "    rate(100)\n",
    "\n",
    "    ######################################\n",
    "    # Move Particles\n",
    "    ######################################\n",
    "    pos_array=pos_array+p_array*dt\n",
    "\n",
    "    ######################################\n",
    "    # Check wall collisions\n",
    "    ######################################\n",
    "    putmask(p_array,greater(pos_array,maxpos),-p_array)\n",
    "    putmask(pos_array,greater(pos_array,maxpos),2*maxpos-pos_array)\n",
    "    putmask(p_array,less_equal(pos_array,-maxpos),-p_array)\n",
    "    putmask(pos_array,less_equal(pos_array,-maxpos),-2*maxpos-pos_array)\n",
    "\n",
    "    ######################################\n",
    "    # Check particle collisions\n",
    "    ######################################\n",
    "    separation=pos_array-pos_array[:,newaxis]\n",
    "    sepmag2=add.reduce(separation*separation,-1)\n",
    "    putmask(sepmag2,ltriang,4*D2)\n",
    "    hit=less_equal(sepmag2,D2)\n",
    "    hit_list=sort(nonzero(hit.flat))\n",
    "\n",
    "    hit_list = hit_list[0]\n",
    "    for ij in hit_list:\n",
    "        i, j = divmod(ij,no_particles)\n",
    "        sepmag=sqrt(sepmag2[i,j])\n",
    "        direction=separation[i,j]/sepmag\n",
    "        pi=dot(vector(p_array[i][0], p_array[i][1], p_array[i][2]),vector(direction[0], direction[1], direction[2]))\n",
    "        pj=dot(vector(p_array[j][0], p_array[j][1], p_array[j][2]),vector(direction[0], direction[1], direction[2]))\n",
    "        exchange=pj-pi\n",
    "        p_array[i]=p_array[i]+exchange*direction\n",
    "        p_array[j]=p_array[j]-exchange*direction\n",
    "\n",
    "        overlap=2*ball_radius-sepmag\n",
    "        pos_array[i]=pos_array[i]-overlap*direction\n",
    "        pos_array[j]=pos_array[j]+overlap*direction\n",
    "\n",
    "    ######################################\n",
    "    # Update position and velocity\n",
    "    # of balls for plotting\n",
    "    ######################################\n",
    "    for i in arange(len(ball_list)):\n",
    "        ball_list[i].pos=vector(pos_array[i][0], pos_array[i][1], pos_array[i][2])\n",
    "        ball_list[i].velocity=vector(p_array[i][0], p_array[i][1], p_array[i][2])\n"
   ]
  },
  {
   "cell_type": "code",
   "execution_count": null,
   "metadata": {},
   "outputs": [],
   "source": []
  }
 ],
 "metadata": {
  "kernelspec": {
   "display_name": "Python 2",
   "language": "python",
   "name": "python2"
  },
  "language_info": {
   "codemirror_mode": {
    "name": "ipython",
    "version": 3
   },
   "file_extension": ".py",
   "mimetype": "text/x-python",
   "name": "python",
   "nbconvert_exporter": "python",
   "pygments_lexer": "ipython3",
   "version": "3.6.4"
  }
 },
 "nbformat": 4,
 "nbformat_minor": 2
}
