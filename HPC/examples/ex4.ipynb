{
 "cells": [
  {
   "cell_type": "code",
   "execution_count": null,
   "metadata": {},
   "outputs": [],
   "source": [
    "#########################################\n",
    "# Import the library(s)\n",
    "#########################################\n",
    "from vpython import *\n",
    "\n",
    "##########################################\n",
    "# Create Wall(s)\n",
    "##########################################\n",
    "side=4.0\n",
    "thk=0.3\n",
    "\n",
    "wallR = box (pos=vector( side, 0, 0), length=thk,\n",
    "             height=2*side, width=2*side, color = color.red)\n",
    "wallL = box (pos=vector(-side, 0, 0), length=thk,\n",
    "             height=2*side, width=2*side, color = color.red)\n",
    "\n",
    "##########################################\n",
    "# Create Ball(s)\n",
    "##########################################\n",
    "ball_radius=1.0\n",
    "maxpos=side-thk/2-ball_radius\n",
    "maxv=2.0\n",
    "\n",
    "ball = sphere(color = color.green, radius = ball_radius)\n",
    "ball.velocity = vector(2,.1,0)\n",
    "\n",
    "sleep(5)\n",
    "##########################################\n",
    "# Time loop for moving Ball(s)\n",
    "###########################################\n",
    "timestep = 0.05\n",
    "\n",
    "while (1==1):\n",
    "    # Set number of times loop is repeated per second\n",
    "    rate(100)\n",
    "\n",
    "    # Move ball(s)\n",
    "    ball.pos = ball.pos + ball.velocity*timestep\n",
    "\n",
    "    #check for collisions with the walls\n",
    "    #right wall\n",
    "    if ball.pos.x > maxpos:\n",
    "        ball.velocity.x = -ball.velocity.x #reflect velocity\n",
    "        ball.pos.x=2*maxpos-ball.pos.x     #reflect position\n",
    "    #left wall\n",
    "    if ball.pos.x < -maxpos:\n",
    "        ball.velocity.x = -ball.velocity.x\n",
    "        ball.pos.x=-2*maxpos-ball.pos.x\n"
   ]
  }
 ],
 "metadata": {
  "kernelspec": {
   "display_name": "Python 2",
   "language": "python",
   "name": "python2"
  },
  "language_info": {
   "codemirror_mode": {
    "name": "ipython",
    "version": 2
   },
   "file_extension": ".py",
   "mimetype": "text/x-python",
   "name": "python",
   "nbconvert_exporter": "python",
   "pygments_lexer": "ipython2",
   "version": "2.7.10"
  }
 },
 "nbformat": 4,
 "nbformat_minor": 2
}
